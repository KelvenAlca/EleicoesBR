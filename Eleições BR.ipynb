{
 "cells": [
  {
   "cell_type": "markdown",
   "metadata": {},
   "source": [
    "Meritocracia nas eleições, 5% de margem nos votos"
   ]
  },
  {
   "cell_type": "markdown",
   "metadata": {},
   "source": [
    "Com o objetivo de fortalecer a democracia e garantir eleições mais justas, foi estabelecido um critério adicional: a diferença mínima de 5% entre os votos do candidato vencedor e do perdedor para uma eleição ser considerada meritocrática. Essa medida busca ampliar a representatividade e legitimidade dos resultados, valorizando a vontade do povo e promovendo a confiança nas instituições democráticas."
   ]
  },
  {
   "cell_type": "code",
   "execution_count": 18,
   "metadata": {},
   "outputs": [
    {
     "name": "stdout",
     "output_type": "stream",
     "text": [
      "Arquivo 'eleicoes.csv' criado com sucesso.\n"
     ]
    }
   ],
   "source": [
    "#Importando dados das votações do Brasil\n",
    "import csv\n",
    "\n",
    "data = [\n",
    "    [\"Ano\", \"Candidato Vencedor\", \"Percentual de Votos Vencedor\", \"Candidato Perdedor\",\n",
    "     \"Percentual de Votos Perdedor\", \"Diferença em Pontos Percentuais\", \"Meritocrático\"],\n",
    "    [1989, \"Collor\", 53.03, \"Lula\", 46.97, 6.06, \"Sim\"],\n",
    "    [1998, \"FHC\", 53.06, \"Lula\", 31.71, 21.35, \"Sim\"],\n",
    "    [2002, \"Lula\", 61.27, \"Serra\", 38.72, 22.55, \"Sim\"],\n",
    "    [2006, \"Lula\", 60.83, \"Alckmin\", 39.17, 21.66, \"Sim\"],\n",
    "    [2010, \"Dilma\", 56.05, \"Serra\", 43.95, 12.10, \"Sim\"],\n",
    "    [2014, \"Dilma\", 51.64, \"Aécio\", 48.36, 3.28, \"Não\"],\n",
    "    [2018, \"Bolsonaro\", 55.13, \"Haddad\", 44.87, 10.26, \"Sim\"],\n",
    "    [2022, \"Lula\", 50.90, \"Bolsonaro\", 49.10, 1.80, \"Não\"]\n",
    "]\n",
    "\n",
    "filename = \"eleicoes.csv\"\n",
    "\n",
    "with open(filename, \"w\", newline=\"\") as file:\n",
    "    writer = csv.writer(file)\n",
    "    writer.writerows(data)\n",
    "\n",
    "print(\"Arquivo 'eleicoes.csv' criado com sucesso.\")\n"
   ]
  },
  {
   "cell_type": "code",
   "execution_count": 19,
   "metadata": {
    "scrolled": true
   },
   "outputs": [
    {
     "name": "stdout",
     "output_type": "stream",
     "text": [
      "Requirement already satisfied: pandas in c:\\users\\desktop\\anaconda3\\lib\\site-packages (1.5.3)\n",
      "Requirement already satisfied: numpy>=1.21.0 in c:\\users\\desktop\\anaconda3\\lib\\site-packages (from pandas) (1.23.5)\n",
      "Requirement already satisfied: python-dateutil>=2.8.1 in c:\\users\\desktop\\anaconda3\\lib\\site-packages (from pandas) (2.8.2)\n",
      "Requirement already satisfied: pytz>=2020.1 in c:\\users\\desktop\\anaconda3\\lib\\site-packages (from pandas) (2022.7)\n",
      "Requirement already satisfied: six>=1.5 in c:\\users\\desktop\\anaconda3\\lib\\site-packages (from python-dateutil>=2.8.1->pandas) (1.16.0)\n"
     ]
    }
   ],
   "source": [
    "#instalando pandas\n",
    "\n",
    "!pip install pandas"
   ]
  },
  {
   "cell_type": "code",
   "execution_count": 20,
   "metadata": {},
   "outputs": [
    {
     "name": "stdout",
     "output_type": "stream",
     "text": [
      "Requirement already satisfied: scikit-learn in c:\\users\\desktop\\anaconda3\\lib\\site-packages (1.2.1)\n",
      "Requirement already satisfied: scipy>=1.3.2 in c:\\users\\desktop\\anaconda3\\lib\\site-packages (from scikit-learn) (1.10.0)\n",
      "Requirement already satisfied: joblib>=1.1.1 in c:\\users\\desktop\\anaconda3\\lib\\site-packages (from scikit-learn) (1.1.1)\n",
      "Requirement already satisfied: threadpoolctl>=2.0.0 in c:\\users\\desktop\\anaconda3\\lib\\site-packages (from scikit-learn) (2.2.0)\n",
      "Requirement already satisfied: numpy>=1.17.3 in c:\\users\\desktop\\anaconda3\\lib\\site-packages (from scikit-learn) (1.23.5)\n"
     ]
    }
   ],
   "source": [
    "#instalando scikit\n",
    "\n",
    "!pip install scikit-learn"
   ]
  },
  {
   "cell_type": "markdown",
   "metadata": {},
   "source": [
    "Analise percentual de votos"
   ]
  },
  {
   "cell_type": "code",
   "execution_count": 22,
   "metadata": {},
   "outputs": [
    {
     "name": "stdout",
     "output_type": "stream",
     "text": [
      "Acurácia do modelo: 1.0\n"
     ]
    }
   ],
   "source": [
    "import pandas as pd\n",
    "from sklearn.tree import DecisionTreeClassifier\n",
    "from sklearn.model_selection import train_test_split\n",
    "from sklearn.metrics import accuracy_score\n",
    "\n",
    "df = pd.read_csv('eleicoes.csv', encoding='latin1')\n",
    "\n",
    "X = df[['Percentual de Votos Vencedor', 'Percentual de Votos Perdedor']]\n",
    "y = df['Meritocrático']\n",
    "\n",
    "X_train, X_test, y_train, y_test = train_test_split(X, y, test_size=0.2, random_state=42)\n",
    "\n",
    "model = DecisionTreeClassifier()\n",
    "\n",
    "model.fit(X_train, y_train)\n",
    "\n",
    "y_pred = model.predict(X_test)\n",
    "\n",
    "accuracy = accuracy_score(y_test, y_pred)\n",
    "print(f'Acurácia do modelo: {accuracy}')\n"
   ]
  },
  {
   "cell_type": "code",
   "execution_count": 26,
   "metadata": {},
   "outputs": [
    {
     "name": "stdout",
     "output_type": "stream",
     "text": [
      "Acurácia do modelo: 1.0\n"
     ]
    }
   ],
   "source": [
    "import pandas as pd\n",
    "from sklearn.ensemble import RandomForestClassifier\n",
    "from sklearn.model_selection import train_test_split\n",
    "from sklearn.metrics import accuracy_score\n",
    "\n",
    "df = pd.read_csv('eleicoes.csv', encoding='latin1')\n",
    "\n",
    "X = df[['Percentual de Votos Vencedor', 'Percentual de Votos Perdedor']]\n",
    "y = df['Meritocrático']\n",
    "\n",
    "X_train, X_test, y_train, y_test = train_test_split(X, y, test_size=0.2, random_state=42)\n",
    "\n",
    "model = RandomForestClassifier()\n",
    "\n",
    "model.fit(X_train, y_train)\n",
    "\n",
    "y_pred = model.predict(X_test)\n",
    "\n",
    "accuracy = accuracy_score(y_test, y_pred)\n",
    "print(f'Acurácia do modelo: {accuracy}')"
   ]
  },
  {
   "cell_type": "code",
   "execution_count": 29,
   "metadata": {},
   "outputs": [
    {
     "name": "stdout",
     "output_type": "stream",
     "text": [
      "Acurácia do modelo: 0.5\n"
     ]
    }
   ],
   "source": [
    "import pandas as pd\n",
    "from sklearn.neural_network import MLPClassifier\n",
    "from sklearn.model_selection import train_test_split\n",
    "from sklearn.metrics import accuracy_score\n",
    "\n",
    "df = pd.read_csv('eleicoes.csv', encoding='latin1')\n",
    "\n",
    "X = df[['Percentual de Votos Vencedor', 'Percentual de Votos Perdedor']]\n",
    "y = df['Meritocrático']\n",
    "\n",
    "X_train, X_test, y_train, y_test = train_test_split(X, y, test_size=0.2, random_state=42)\n",
    "\n",
    "model = MLPClassifier()\n",
    "\n",
    "model.fit(X_train, y_train)\n",
    "\n",
    "y_pred = model.predict(X_test)\n",
    "\n",
    "accuracy = accuracy_score(y_test, y_pred)\n",
    "print(f'Acurácia do modelo: {accuracy}')"
   ]
  },
  {
   "cell_type": "code",
   "execution_count": 31,
   "metadata": {},
   "outputs": [],
   "source": [
    "df['Diferenca_Perc'] = df['Percentual de Votos Vencedor'] - df['Percentual de Votos Perdedor']\n"
   ]
  },
  {
   "cell_type": "markdown",
   "metadata": {},
   "source": [
    "Aqui os dados Históricos"
   ]
  },
  {
   "cell_type": "code",
   "execution_count": 38,
   "metadata": {},
   "outputs": [],
   "source": [
    "import pandas as pd\n",
    "\n",
    "data = {\n",
    "    'Ano': [1989, 1998, 2002, 2006, 2010, 2014, 2018, 2022],\n",
    "    'Candidato': ['Collor', 'FHC', 'Lula', 'Lula', 'Dilma', 'Dilma', 'Bolsonaro', 'Lula'],\n",
    "    'Percentual Votos Anterior': [None, 43.29, 47.75, 61.27, 56.05, 51.64, 46.03, 48.36]\n",
    "}\n",
    "\n",
    "df_historico = pd.DataFrame(data)\n",
    "\n",
    "df_historico.to_csv('dados_historicos.csv', index=False)"
   ]
  },
  {
   "cell_type": "code",
   "execution_count": 39,
   "metadata": {},
   "outputs": [],
   "source": [
    "import pandas as pd\n",
    "\n",
    "df_historico = pd.read_csv('dados_historicos.csv')\n",
    "\n",
    "# Adicionar características históricas para cada eleição\n",
    "df_historico.loc[df_historico['Ano'] == 1989, 'Caracteristica_Historica'] = 'Primeira eleição após a redemocratização'\n",
    "df_historico.loc[df_historico['Ano'] == 1998, 'Caracteristica_Historica'] = 'Reeleição de FHC'\n",
    "df_historico.loc[df_historico['Ano'] == 2002, 'Caracteristica_Historica'] = 'Eleição de Lula pela primeira vez'\n",
    "df_historico.loc[df_historico['Ano'] == 2006, 'Caracteristica_Historica'] = 'Reeleição de Lula'\n",
    "df_historico.loc[df_historico['Ano'] == 2010, 'Caracteristica_Historica'] = 'Eleição de Dilma pela primeira vez'\n",
    "df_historico.loc[df_historico['Ano'] == 2014, 'Caracteristica_Historica'] = 'Reeleição de Dilma'\n",
    "df_historico.loc[df_historico['Ano'] == 2018, 'Caracteristica_Historica'] = 'Eleição de Bolsonaro'\n",
    "df_historico.loc[df_historico['Ano'] == 2022, 'Caracteristica_Historica'] = 'Retorno de Lula à presidência'\n",
    "\n",
    "# Salvar as alterações no arquivo CSV\n",
    "df_historico.to_csv('dados_historicos.csv', index=False)"
   ]
  },
  {
   "cell_type": "code",
   "execution_count": 42,
   "metadata": {},
   "outputs": [
    {
     "name": "stderr",
     "output_type": "stream",
     "text": [
      "C:\\Users\\desktop\\AppData\\Local\\Temp\\ipykernel_9340\\1014647215.py:9: FutureWarning: Passing 'suffixes' which cause duplicate columns {'Candidato_x'} in the result is deprecated and will raise a MergeError in a future version.\n",
      "  df = pd.merge(df, df_historico[['Ano', 'Candidato', 'Percentual Votos Anterior']],\n"
     ]
    }
   ],
   "source": [
    "import pandas as pd\n",
    "\n",
    "df_historico = pd.read_csv('dados_historicos.csv')\n",
    "\n",
    "df = pd.merge(df, df_historico[['Ano', 'Candidato', 'Percentual Votos Anterior']],\n",
    "              left_on=['Candidato Vencedor', 'Ano'], right_on=['Candidato', 'Ano'], how='left')\n",
    "df.rename(columns={'Percentual Votos Anterior': 'Percentual Votos Anterior Vencedor'}, inplace=True)\n",
    "\n",
    "df = pd.merge(df, df_historico[['Ano', 'Candidato', 'Percentual Votos Anterior']],\n",
    "              left_on=['Candidato Perdedor', 'Ano'], right_on=['Candidato', 'Ano'], how='left')\n",
    "df.rename(columns={'Percentual Votos Anterior': 'Percentual Votos Anterior Perdedor'}, inplace=True)\n"
   ]
  },
  {
   "cell_type": "code",
   "execution_count": 17,
   "metadata": {},
   "outputs": [],
   "source": [
    "import pandas as pd\n",
    "\n",
    "data = {\n",
    "    'Ano': [1989, 1998, 2002, 2006, 2010, 2014, 2018, 2022],\n",
    "    'Candidato': ['Collor', 'FHC', 'Lula', 'Lula', 'Dilma', 'Dilma', 'Bolsonaro', 'Lula'],\n",
    "    'Percentual Votos Anterior': [None, 43.29, 47.75, 61.27, 56.05, 51.64, 46.03, 48.36]\n",
    "}\n",
    "\n",
    "df_historico = pd.DataFrame(data)\n",
    "\n",
    "df_historico.to_csv('dados_historicos.csv', index=False)\n"
   ]
  },
  {
   "cell_type": "code",
   "execution_count": 57,
   "metadata": {},
   "outputs": [],
   "source": [
    "import pandas as pd\n",
    "\n",
    "df_historico = pd.read_csv('dados_historicos.csv')\n",
    "\n",
    "# Adicionar características históricas para cada eleição\n",
    "df_historico.loc[df_historico['Ano'] == 1989, 'Caracteristica_Historica'] = 'Primeira eleição após a redemocratização'\n",
    "df_historico.loc[df_historico['Ano'] == 1998, 'Caracteristica_Historica'] = 'Reeleição de FHC'\n",
    "df_historico.loc[df_historico['Ano'] == 2002, 'Caracteristica_Historica'] = 'Eleição de Lula pela primeira vez'\n",
    "df_historico.loc[df_historico['Ano'] == 2006, 'Caracteristica_Historica'] = 'Reeleição de Lula'\n",
    "df_historico.loc[df_historico['Ano'] == 2010, 'Caracteristica_Historica'] = 'Eleição de Dilma pela primeira vez'\n",
    "df_historico.loc[df_historico['Ano'] == 2014, 'Caracteristica_Historica'] = 'Reeleição de Dilma'\n",
    "df_historico.loc[df_historico['Ano'] == 2018, 'Caracteristica_Historica'] = 'Eleição de Bolsonaro'\n",
    "df_historico.loc[df_historico['Ano'] == 2022, 'Caracteristica_Historica'] = 'Retorno de Lula à presidência'\n",
    "\n",
    "# Salvar as alterações no arquivo CSV\n",
    "df_historico.to_csv('dados_historicos.csv', index=False)"
   ]
  },
  {
   "cell_type": "code",
   "execution_count": 58,
   "metadata": {},
   "outputs": [],
   "source": [
    "df['Faixa_Votos_Vencedor'] = pd.cut(df['Percentual de Votos Vencedor'], bins=[0, 40, 50, 100], labels=['<40%', '40-50%', '>50%'])"
   ]
  },
  {
   "cell_type": "code",
   "execution_count": 59,
   "metadata": {},
   "outputs": [],
   "source": [
    "import pandas as pd\n",
    "\n",
    "# Dados socioeconômicos de cada ano de eleição\n",
    "dados = {\n",
    "    'Ano': [1989, 1998, 2002, 2006, 2010, 2014, 2018, 2022],\n",
    "    'GDP': [3.22, -3.06, 1.66, 0.76, 7.65, -2.5, 0.46, 7.5],\n",
    "    'UnemploymentRate': [3, 10.2, 10.6, 9.7, 8, 8.5, 12.3, 9.2],\n",
    "    'InflationRate': [1030.7, 3.2, 8.5, 4.2, 5, 6.3, 3.7, 9.3]\n",
    "}\n",
    "\n",
    "df_socioeconomicos = pd.DataFrame(dados)\n",
    "\n",
    "df_socioeconomicos.to_csv('dados_socioeconomicos.csv', index=False)\n"
   ]
  },
  {
   "cell_type": "code",
   "execution_count": 60,
   "metadata": {},
   "outputs": [],
   "source": [
    "df_socioeconomico = pd.read_csv('dados_socioeconomicos.csv')\n",
    "\n",
    "df = pd.merge(df, df_socioeconomico, on='Ano', how='left')\n"
   ]
  },
  {
   "cell_type": "code",
   "execution_count": 61,
   "metadata": {},
   "outputs": [
    {
     "name": "stdout",
     "output_type": "stream",
     "text": [
      "Acurácia média da validação cruzada: 0.9\n"
     ]
    },
    {
     "name": "stderr",
     "output_type": "stream",
     "text": [
      "C:\\Users\\desktop\\anaconda3\\lib\\site-packages\\sklearn\\model_selection\\_split.py:700: UserWarning: The least populated class in y has only 2 members, which is less than n_splits=5.\n",
      "  warnings.warn(\n"
     ]
    }
   ],
   "source": [
    "import pandas as pd\n",
    "from sklearn.linear_model import LogisticRegression\n",
    "from sklearn.model_selection import cross_val_score\n",
    "\n",
    "df = pd.read_csv('eleicoes.csv', encoding='latin1')\n",
    "\n",
    "X = df[['Percentual de Votos Vencedor', 'Percentual de Votos Perdedor']]\n",
    "y = df['Meritocrático']\n",
    "\n",
    "model = LogisticRegression()\n",
    "\n",
    "scores = cross_val_score(model, X, y, cv=5)\n",
    "\n",
    "mean_accuracy = scores.mean()\n",
    "\n",
    "print(f'Acurácia média da validação cruzada: {mean_accuracy}')\n",
    "\n"
   ]
  },
  {
   "cell_type": "markdown",
   "metadata": {},
   "source": [
    "Aqui dados socioeconômicos"
   ]
  },
  {
   "cell_type": "code",
   "execution_count": 62,
   "metadata": {},
   "outputs": [],
   "source": [
    "import pandas as pd\n",
    "\n",
    "dados = {\n",
    "    'Ano': [1989, 1998, 2002, 2006, 2010, 2014, 2018, 2022],\n",
    "    'GDP': [3.22, -3.06, 1.66, 0.76, 7.65, -2.5, 0.46, 7.5],\n",
    "    'UnemploymentRate': [3, 10.2, 10.6, 9.7, 8, 8.5, 12.3, 9.2],\n",
    "    'InflationRate': [1030.7, 3.2, 8.5, 4.2, 5, 6.3, 3.7, 9.3]\n",
    "}\n",
    "\n",
    "df_socioeconomicos = pd.DataFrame(dados)\n",
    "\n",
    "df_socioeconomicos.to_csv('dados_socioeconomicos.csv', index=False)\n"
   ]
  },
  {
   "cell_type": "code",
   "execution_count": 63,
   "metadata": {},
   "outputs": [],
   "source": [
    "df_socioeconomico = pd.read_csv('dados_socioeconomicos.csv')\n",
    "\n",
    "df = pd.merge(df, df_socioeconomico, on='Ano', how='left')"
   ]
  },
  {
   "cell_type": "markdown",
   "metadata": {},
   "source": [
    "Validação Cruzada"
   ]
  },
  {
   "cell_type": "code",
   "execution_count": 64,
   "metadata": {},
   "outputs": [
    {
     "name": "stdout",
     "output_type": "stream",
     "text": [
      "Acurácia média da validação cruzada: 0.9\n"
     ]
    },
    {
     "name": "stderr",
     "output_type": "stream",
     "text": [
      "C:\\Users\\desktop\\anaconda3\\lib\\site-packages\\sklearn\\model_selection\\_split.py:700: UserWarning: The least populated class in y has only 2 members, which is less than n_splits=5.\n",
      "  warnings.warn(\n"
     ]
    }
   ],
   "source": [
    "import pandas as pd\n",
    "from sklearn.linear_model import LogisticRegression\n",
    "from sklearn.model_selection import cross_val_score\n",
    "\n",
    "df = pd.read_csv('eleicoes.csv', encoding='latin1')\n",
    "\n",
    "X = df[['Percentual de Votos Vencedor', 'Percentual de Votos Perdedor']]\n",
    "y = df['Meritocrático']\n",
    "\n",
    "model = LogisticRegression()\n",
    "\n",
    "scores = cross_val_score(model, X, y, cv=5)\n",
    "\n",
    "mean_accuracy = scores.mean()\n",
    "\n",
    "print(f'Acurácia média da validação cruzada: {mean_accuracy}')"
   ]
  },
  {
   "cell_type": "code",
   "execution_count": 65,
   "metadata": {},
   "outputs": [
    {
     "name": "stdout",
     "output_type": "stream",
     "text": [
      "Requirement already satisfied: matplotlib in c:\\users\\desktop\\anaconda3\\lib\\site-packages (3.7.0)\n",
      "Requirement already satisfied: fonttools>=4.22.0 in c:\\users\\desktop\\anaconda3\\lib\\site-packages (from matplotlib) (4.25.0)\n",
      "Requirement already satisfied: numpy>=1.20 in c:\\users\\desktop\\anaconda3\\lib\\site-packages (from matplotlib) (1.23.5)\n",
      "Requirement already satisfied: pyparsing>=2.3.1 in c:\\users\\desktop\\anaconda3\\lib\\site-packages (from matplotlib) (3.0.9)\n",
      "Requirement already satisfied: python-dateutil>=2.7 in c:\\users\\desktop\\anaconda3\\lib\\site-packages (from matplotlib) (2.8.2)\n",
      "Requirement already satisfied: packaging>=20.0 in c:\\users\\desktop\\anaconda3\\lib\\site-packages (from matplotlib) (22.0)\n",
      "Requirement already satisfied: contourpy>=1.0.1 in c:\\users\\desktop\\anaconda3\\lib\\site-packages (from matplotlib) (1.0.5)\n",
      "Requirement already satisfied: cycler>=0.10 in c:\\users\\desktop\\anaconda3\\lib\\site-packages (from matplotlib) (0.11.0)\n",
      "Requirement already satisfied: kiwisolver>=1.0.1 in c:\\users\\desktop\\anaconda3\\lib\\site-packages (from matplotlib) (1.4.4)\n",
      "Requirement already satisfied: pillow>=6.2.0 in c:\\users\\desktop\\anaconda3\\lib\\site-packages (from matplotlib) (9.4.0)\n",
      "Requirement already satisfied: six>=1.5 in c:\\users\\desktop\\anaconda3\\lib\\site-packages (from python-dateutil>=2.7->matplotlib) (1.16.0)\n",
      "Note: you may need to restart the kernel to use updated packages.\n"
     ]
    }
   ],
   "source": [
    "pip install matplotlib"
   ]
  },
  {
   "cell_type": "markdown",
   "metadata": {},
   "source": [
    "Análise exploratória de dados"
   ]
  },
  {
   "cell_type": "code",
   "execution_count": 66,
   "metadata": {},
   "outputs": [
    {
     "name": "stdout",
     "output_type": "stream",
     "text": [
      "    Ano Candidato Vencedor  Percentual de Votos Vencedor Candidato Perdedor  \\\n",
      "0  1989             Collor                         53.03               Lula   \n",
      "1  1998                FHC                         53.06               Lula   \n",
      "2  2002               Lula                         61.27              Serra   \n",
      "3  2006               Lula                         60.83            Alckmin   \n",
      "4  2010              Dilma                         56.05              Serra   \n",
      "\n",
      "   Percentual de Votos Perdedor  Diferença em Pontos Percentuais Meritocrático  \n",
      "0                         46.97                             6.06           Sim  \n",
      "1                         31.71                            21.35           Sim  \n",
      "2                         38.72                            22.55           Sim  \n",
      "3                         39.17                            21.66           Sim  \n",
      "4                         43.95                            12.10           Sim  \n",
      "              Ano  Percentual de Votos Vencedor  Percentual de Votos Perdedor  \\\n",
      "count     8.00000                      8.000000                       8.00000   \n",
      "mean   2007.37500                     55.238750                      42.85625   \n",
      "std      10.91444                      3.958883                       5.93279   \n",
      "min    1989.00000                     50.900000                      31.71000   \n",
      "25%    2001.00000                     52.682500                      39.05750   \n",
      "50%    2008.00000                     54.095000                      44.41000   \n",
      "75%    2015.00000                     57.245000                      47.31750   \n",
      "max    2022.00000                     61.270000                      49.10000   \n",
      "\n",
      "       Diferença em Pontos Percentuais  \n",
      "count                         8.000000  \n",
      "mean                         12.382500  \n",
      "std                           8.529526  \n",
      "min                           1.800000  \n",
      "25%                           5.365000  \n",
      "50%                          11.180000  \n",
      "75%                          21.427500  \n",
      "max                          22.550000  \n"
     ]
    },
    {
     "data": {
      "image/png": "[encoded data removed]",
      "text/plain": [
       "<Figure size 640x480 with 4 Axes>"
      ]
     },
     "metadata": {},
     "output_type": "display_data"
    },
    {
     "data": {
      "image/png": "[encoded data removed]",
      "text/plain": [
       "<Figure size 640x480 with 1 Axes>"
      ]
     },
     "metadata": {},
     "output_type": "display_data"
    }
   ],
   "source": [
    "\n",
    "import pandas as pd\n",
    "import matplotlib.pyplot as plt\n",
    "\n",
    "# Carregar os dados\n",
    "df = pd.read_csv('eleicoes.csv', encoding='latin1')\n",
    "\n",
    "# Visualizar as primeiras linhas do DataFrame\n",
    "print(df.head())\n",
    "\n",
    "# Resumo estatístico dos dados\n",
    "print(df.describe())\n",
    "\n",
    "# Histograma das características numéricas\n",
    "df.hist()\n",
    "plt.show()\n",
    "\n",
    "# Gráfico de dispersão entre as características 'Percentual de Votos Vencedor' e 'Percentual de Votos Perdedor'\n",
    "plt.scatter(df['Percentual de Votos Vencedor'], df['Percentual de Votos Perdedor'])\n",
    "plt.xlabel('Percentual de Votos Vencedor')\n",
    "plt.ylabel('Percentual de Votos Perdedor')\n",
    "plt.show()\n"
   ]
  },
  {
   "cell_type": "markdown",
   "metadata": {},
   "source": [
    "Porcentagem dos votos/Meritocracia"
   ]
  },
  {
   "cell_type": "code",
   "execution_count": 67,
   "metadata": {},
   "outputs": [
    {
     "name": "stdout",
     "output_type": "stream",
     "text": [
      "    Ano Candidato Vencedor  Percentual de Votos Vencedor Candidato Perdedor  \\\n",
      "0  1989             Collor                         53.03               Lula   \n",
      "1  1998                FHC                         53.06               Lula   \n",
      "2  2002               Lula                         61.27              Serra   \n",
      "3  2006               Lula                         60.83            Alckmin   \n",
      "4  2010              Dilma                         56.05              Serra   \n",
      "5  2014              Dilma                         51.64              Aécio   \n",
      "6  2018          Bolsonaro                         55.13             Haddad   \n",
      "7  2022               Lula                         50.90          Bolsonaro   \n",
      "\n",
      "   Percentual de Votos Perdedor  Diferença em Pontos Percentuais  \\\n",
      "0                         46.97                             6.06   \n",
      "1                         31.71                            21.35   \n",
      "2                         38.72                            22.55   \n",
      "3                         39.17                            21.66   \n",
      "4                         43.95                            12.10   \n",
      "5                         48.36                             3.28   \n",
      "6                         44.87                            10.26   \n",
      "7                         49.10                             1.80   \n",
      "\n",
      "  Meritocrático  Meritocratico_Nao  Meritocratico_Sim  \n",
      "0           Sim              False               True  \n",
      "1           Sim              False               True  \n",
      "2           Sim              False               True  \n",
      "3           Sim              False               True  \n",
      "4           Sim              False               True  \n",
      "5           Não              False               True  \n",
      "6           Sim              False               True  \n",
      "7           Não              False               True  \n"
     ]
    }
   ],
   "source": [
    "import pandas as pd\n",
    "\n",
    "# Carregar os dados\n",
    "df = pd.read_csv('eleicoes.csv', encoding='latin1')\n",
    "\n",
    "# Criar colunas para indicar se a eleição é meritocrática ou não com base nos votos\n",
    "df['Meritocratico_Nao'] = df['Percentual de Votos Vencedor'] < df['Percentual de Votos Perdedor']\n",
    "df['Meritocratico_Sim'] = df['Percentual de Votos Vencedor'] >= df['Percentual de Votos Perdedor']\n",
    "\n",
    "# Exibir o DataFrame resultante\n",
    "print(df)\n"
   ]
  },
  {
   "cell_type": "markdown",
   "metadata": {},
   "source": [
    "Eleições apertadas"
   ]
  },
  {
   "cell_type": "code",
   "execution_count": 68,
   "metadata": {},
   "outputs": [
    {
     "name": "stdout",
     "output_type": "stream",
     "text": [
      "Eleições com percentual de votos do vencedor maior que 50%:\n",
      "    Ano Candidato Vencedor  Percentual de Votos Vencedor Candidato Perdedor  \\\n",
      "0  1989             Collor                         53.03               Lula   \n",
      "1  1998                FHC                         53.06               Lula   \n",
      "2  2002               Lula                         61.27              Serra   \n",
      "3  2006               Lula                         60.83            Alckmin   \n",
      "4  2010              Dilma                         56.05              Serra   \n",
      "5  2014              Dilma                         51.64              Aécio   \n",
      "6  2018          Bolsonaro                         55.13             Haddad   \n",
      "7  2022               Lula                         50.90          Bolsonaro   \n",
      "\n",
      "   Percentual de Votos Perdedor  Diferença em Pontos Percentuais Meritocrático  \n",
      "0                         46.97                             6.06           Sim  \n",
      "1                         31.71                            21.35           Sim  \n",
      "2                         38.72                            22.55           Sim  \n",
      "3                         39.17                            21.66           Sim  \n",
      "4                         43.95                            12.10           Sim  \n",
      "5                         48.36                             3.28           Não  \n",
      "6                         44.87                            10.26           Sim  \n",
      "7                         49.10                             1.80           Não  \n",
      "\n",
      "\n",
      "Eleições com percentual de votos do perdedor menor que 30%:\n",
      "Empty DataFrame\n",
      "Columns: [Ano, Candidato Vencedor, Percentual de Votos Vencedor, Candidato Perdedor, Percentual de Votos Perdedor, Diferença em Pontos Percentuais, Meritocrático]\n",
      "Index: []\n",
      "\n",
      "\n",
      "Eleições com diferença apertada entre vencedor e perdedor (diferença menor que 5 pontos percentuais):\n",
      "    Ano Candidato Vencedor  Percentual de Votos Vencedor Candidato Perdedor  \\\n",
      "5  2014              Dilma                         51.64              Aécio   \n",
      "7  2022               Lula                         50.90          Bolsonaro   \n",
      "\n",
      "   Percentual de Votos Perdedor  Diferença em Pontos Percentuais Meritocrático  \n",
      "5                         48.36                             3.28           Não  \n",
      "7                         49.10                             1.80           Não  \n"
     ]
    }
   ],
   "source": [
    "import pandas as pd\n",
    "\n",
    "# Carregar os dados\n",
    "df = pd.read_csv('eleicoes.csv', encoding='latin1')\n",
    "\n",
    "# Extração 1: Percentual de votos do vencedor foi maior que 50%\n",
    "eleicoes_maior_50 = df[df['Percentual de Votos Vencedor'] > 50]\n",
    "\n",
    "# Extração 2: Percentual de votos do perdedor foi menor que 30%\n",
    "eleicoes_menor_30 = df[df['Percentual de Votos Perdedor'] < 30]\n",
    "\n",
    "# Extração 4: Diferença apertada entre vencedor e perdedor (diferença menor que 5 pontos percentuais)\n",
    "eleicoes_diferenca_apertada = df[abs(df['Percentual de Votos Vencedor'] - df['Percentual de Votos Perdedor']) < 5]\n",
    "\n",
    "# Exibir os resultados\n",
    "print(\"Eleições com percentual de votos do vencedor maior que 50%:\")\n",
    "print(eleicoes_maior_50)\n",
    "print(\"\\n\")\n",
    "\n",
    "print(\"Eleições com percentual de votos do perdedor menor que 30%:\")\n",
    "print(eleicoes_menor_30)\n",
    "print(\"\\n\")\n",
    "\n",
    "print(\"Eleições com diferença apertada entre vencedor e perdedor (diferença menor que 5 pontos percentuais):\")\n",
    "print(eleicoes_diferenca_apertada)\n"
   ]
  },
  {
   "cell_type": "markdown",
   "metadata": {},
   "source": [
    "Estatísticas econômicas e contexto Histórico"
   ]
  },
  {
   "cell_type": "code",
   "execution_count": 69,
   "metadata": {},
   "outputs": [
    {
     "name": "stdout",
     "output_type": "stream",
     "text": [
      "Estatísticas Econômicas:\n"
     ]
    },
    {
     "data": {
      "text/html": [
       "<div>\n",
       "<style scoped>\n",
       "    .dataframe tbody tr th:only-of-type {\n",
       "        vertical-align: middle;\n",
       "    }\n",
       "\n",
       "    .dataframe tbody tr th {\n",
       "        vertical-align: top;\n",
       "    }\n",
       "\n",
       "    .dataframe thead th {\n",
       "        text-align: right;\n",
       "    }\n",
       "</style>\n",
       "<table border=\"1\" class=\"dataframe\">\n",
       "  <thead>\n",
       "    <tr style=\"text-align: right;\">\n",
       "      <th></th>\n",
       "      <th>Ano</th>\n",
       "      <th>GDP</th>\n",
       "      <th>UnemploymentRate</th>\n",
       "      <th>InflationRate</th>\n",
       "    </tr>\n",
       "  </thead>\n",
       "  <tbody>\n",
       "    <tr>\n",
       "      <th>0</th>\n",
       "      <td>1989</td>\n",
       "      <td>3.22</td>\n",
       "      <td>3.0</td>\n",
       "      <td>1030.7</td>\n",
       "    </tr>\n",
       "    <tr>\n",
       "      <th>1</th>\n",
       "      <td>1998</td>\n",
       "      <td>-3.06</td>\n",
       "      <td>10.2</td>\n",
       "      <td>3.2</td>\n",
       "    </tr>\n",
       "    <tr>\n",
       "      <th>2</th>\n",
       "      <td>2002</td>\n",
       "      <td>1.66</td>\n",
       "      <td>10.6</td>\n",
       "      <td>8.5</td>\n",
       "    </tr>\n",
       "    <tr>\n",
       "      <th>3</th>\n",
       "      <td>2006</td>\n",
       "      <td>0.76</td>\n",
       "      <td>9.7</td>\n",
       "      <td>4.2</td>\n",
       "    </tr>\n",
       "    <tr>\n",
       "      <th>4</th>\n",
       "      <td>2010</td>\n",
       "      <td>7.65</td>\n",
       "      <td>8.0</td>\n",
       "      <td>5.0</td>\n",
       "    </tr>\n",
       "    <tr>\n",
       "      <th>5</th>\n",
       "      <td>2014</td>\n",
       "      <td>-2.50</td>\n",
       "      <td>8.5</td>\n",
       "      <td>6.3</td>\n",
       "    </tr>\n",
       "    <tr>\n",
       "      <th>6</th>\n",
       "      <td>2018</td>\n",
       "      <td>0.46</td>\n",
       "      <td>12.3</td>\n",
       "      <td>3.7</td>\n",
       "    </tr>\n",
       "    <tr>\n",
       "      <th>7</th>\n",
       "      <td>2022</td>\n",
       "      <td>7.50</td>\n",
       "      <td>9.2</td>\n",
       "      <td>9.3</td>\n",
       "    </tr>\n",
       "  </tbody>\n",
       "</table>\n",
       "</div>"
      ],
      "text/plain": [
       "    Ano   GDP  UnemploymentRate  InflationRate\n",
       "0  1989  3.22               3.0         1030.7\n",
       "1  1998 -3.06              10.2            3.2\n",
       "2  2002  1.66              10.6            8.5\n",
       "3  2006  0.76               9.7            4.2\n",
       "4  2010  7.65               8.0            5.0\n",
       "5  2014 -2.50               8.5            6.3\n",
       "6  2018  0.46              12.3            3.7\n",
       "7  2022  7.50               9.2            9.3"
      ]
     },
     "metadata": {},
     "output_type": "display_data"
    },
    {
     "name": "stdout",
     "output_type": "stream",
     "text": [
      "\n",
      "\n",
      "Contexto Histórico:\n"
     ]
    },
    {
     "data": {
      "text/html": [
       "<div>\n",
       "<style scoped>\n",
       "    .dataframe tbody tr th:only-of-type {\n",
       "        vertical-align: middle;\n",
       "    }\n",
       "\n",
       "    .dataframe tbody tr th {\n",
       "        vertical-align: top;\n",
       "    }\n",
       "\n",
       "    .dataframe thead th {\n",
       "        text-align: right;\n",
       "    }\n",
       "</style>\n",
       "<table border=\"1\" class=\"dataframe\">\n",
       "  <thead>\n",
       "    <tr style=\"text-align: right;\">\n",
       "      <th></th>\n",
       "      <th>Ano</th>\n",
       "      <th>Candidato</th>\n",
       "      <th>Percentual Votos Anterior</th>\n",
       "      <th>Caracteristica_Historica</th>\n",
       "    </tr>\n",
       "  </thead>\n",
       "  <tbody>\n",
       "    <tr>\n",
       "      <th>0</th>\n",
       "      <td>1989</td>\n",
       "      <td>Collor</td>\n",
       "      <td>NaN</td>\n",
       "      <td>Primeira eleição após a redemocratização</td>\n",
       "    </tr>\n",
       "    <tr>\n",
       "      <th>1</th>\n",
       "      <td>1998</td>\n",
       "      <td>FHC</td>\n",
       "      <td>43.29</td>\n",
       "      <td>Reeleição de FHC</td>\n",
       "    </tr>\n",
       "    <tr>\n",
       "      <th>2</th>\n",
       "      <td>2002</td>\n",
       "      <td>Lula</td>\n",
       "      <td>47.75</td>\n",
       "      <td>Eleição de Lula pela primeira vez</td>\n",
       "    </tr>\n",
       "    <tr>\n",
       "      <th>3</th>\n",
       "      <td>2006</td>\n",
       "      <td>Lula</td>\n",
       "      <td>61.27</td>\n",
       "      <td>Reeleição de Lula</td>\n",
       "    </tr>\n",
       "    <tr>\n",
       "      <th>4</th>\n",
       "      <td>2010</td>\n",
       "      <td>Dilma</td>\n",
       "      <td>56.05</td>\n",
       "      <td>Eleição de Dilma pela primeira vez</td>\n",
       "    </tr>\n",
       "    <tr>\n",
       "      <th>5</th>\n",
       "      <td>2014</td>\n",
       "      <td>Dilma</td>\n",
       "      <td>51.64</td>\n",
       "      <td>Reeleição de Dilma</td>\n",
       "    </tr>\n",
       "    <tr>\n",
       "      <th>6</th>\n",
       "      <td>2018</td>\n",
       "      <td>Bolsonaro</td>\n",
       "      <td>46.03</td>\n",
       "      <td>Eleição de Bolsonaro</td>\n",
       "    </tr>\n",
       "    <tr>\n",
       "      <th>7</th>\n",
       "      <td>2022</td>\n",
       "      <td>Lula</td>\n",
       "      <td>48.36</td>\n",
       "      <td>Retorno de Lula à presidência</td>\n",
       "    </tr>\n",
       "  </tbody>\n",
       "</table>\n",
       "</div>"
      ],
      "text/plain": [
       "    Ano  Candidato  Percentual Votos Anterior  \\\n",
       "0  1989     Collor                        NaN   \n",
       "1  1998        FHC                      43.29   \n",
       "2  2002       Lula                      47.75   \n",
       "3  2006       Lula                      61.27   \n",
       "4  2010      Dilma                      56.05   \n",
       "5  2014      Dilma                      51.64   \n",
       "6  2018  Bolsonaro                      46.03   \n",
       "7  2022       Lula                      48.36   \n",
       "\n",
       "                   Caracteristica_Historica  \n",
       "0  Primeira eleição após a redemocratização  \n",
       "1                          Reeleição de FHC  \n",
       "2         Eleição de Lula pela primeira vez  \n",
       "3                         Reeleição de Lula  \n",
       "4        Eleição de Dilma pela primeira vez  \n",
       "5                        Reeleição de Dilma  \n",
       "6                      Eleição de Bolsonaro  \n",
       "7             Retorno de Lula à presidência  "
      ]
     },
     "metadata": {},
     "output_type": "display_data"
    }
   ],
   "source": [
    "import pandas as pd\n",
    "\n",
    "# Imprimir os DataFrames\n",
    "print(\"Estatísticas Econômicas:\")\n",
    "display(df_socioeconomicos)\n",
    "print(\"\\n\")\n",
    "\n",
    "# Exibir o contexto histórico\n",
    "print(\"Contexto Histórico:\")\n",
    "display(df_historico)\n"
   ]
  },
  {
   "cell_type": "markdown",
   "metadata": {},
   "source": [
    "Diferença em Pontos Percentuais em Grafico"
   ]
  },
  {
   "cell_type": "code",
   "execution_count": 70,
   "metadata": {},
   "outputs": [
    {
     "data": {
      "image/png": "[encoded data removed]",
      "text/plain": [
       "<Figure size 640x480 with 1 Axes>"
      ]
     },
     "metadata": {},
     "output_type": "display_data"
    }
   ],
   "source": [
    "import pandas as pd\n",
    "import matplotlib.pyplot as plt\n",
    "\n",
    "df = pd.read_csv('eleicoes.csv', encoding='latin1')\n",
    "\n",
    "years = df['Ano']\n",
    "vote_difference = df['Diferença em Pontos Percentuais']\n",
    "\n",
    "plt.bar(years, vote_difference)\n",
    "plt.xlabel('Ano')\n",
    "plt.ylabel('Diferença em Pontos Percentuais')\n",
    "plt.title('Diferença de Votos por Ano')\n",
    "plt.show()\n",
    "\n"
   ]
  },
  {
   "cell_type": "code",
   "execution_count": null,
   "metadata": {},
   "outputs": [],
   "source": [
    "import pandas as pd\n",
    "\n",
    "# Carregar os dados\n",
    "df = pd.read_csv('eleicoes.csv', encoding='latin1')\n",
    "\n",
    "# Prompt 1: Percentual de votos do vencedor\n",
    "vencedor_min, vencedor_max = map(float, input(\"Digite o valor mínimo e máximo do percentual de votos do vencedor desejado (separados por espaço): \").split())\n",
    "eleicoes_vencedor = df[(df['Percentual de Votos Vencedor'] >= vencedor_min) & (df['Percentual de Votos Vencedor'] <= vencedor_max)]\n",
    "\n",
    "# Prompt 2: Percentual de votos do perdedor\n",
    "perdedor_min, perdedor_max = map(float, input(\"Digite o valor mínimo e máximo do percentual de votos do perdedor desejado (separados por espaço): \").split())\n",
    "eleicoes_perdedor = df[(df['Percentual de Votos Perdedor'] >= perdedor_min) & (df['Percentual de Votos Perdedor'] <= perdedor_max)]\n",
    "\n",
    "# Prompt 3: Diferença de votos entre o vencedor e o perdedor\n",
    "diferenca_min, diferenca_max = map(float, input(\"Digite o valor mínimo e máximo da diferença de votos desejada (separados por espaço): \").split())\n",
    "eleicoes_diferenca = df[(df['Diferença em Pontos Percentuais'] >= diferenca_min) & (df['Diferença em Pontos Percentuais'] <= diferenca_max)]\n",
    "\n",
    "# Exibir os resultados\n",
    "print(\"Eleições com percentual de votos do vencedor entre\", vencedor_min, \"e\", vencedor_max, \"porcento:\")\n",
    "print(eleicoes_vencedor)\n",
    "print(\"\\n\")\n",
    "\n",
    "print(\"Eleições com percentual de votos do perdedor entre\", perdedor_min, \"e\", perdedor_max, \"porcento:\")\n",
    "print(eleicoes_perdedor)\n",
    "print(\"\\n\")\n",
    "\n",
    "print(\"Eleições com diferença de votos entre o vencedor e o perdedor entre\", diferenca_min, \"e\", diferenca_max, \"porcento:\")\n",
    "print(eleicoes_diferenca)"
   ]
  }
 ],
 "metadata": {
  "kernelspec": {
   "display_name": "Python 3 (ipykernel)",
   "language": "python",
   "name": "python3"
  },
  "language_info": {
   "codemirror_mode": {
    "name": "ipython",
    "version": 3
   },
   "file_extension": ".py",
   "mimetype": "text/x-python",
   "name": "python",
   "nbconvert_exporter": "python",
   "pygments_lexer": "ipython3",
   "version": "3.10.9"
  }
 },
 "nbformat": 4,
 "nbformat_minor": 2
}
